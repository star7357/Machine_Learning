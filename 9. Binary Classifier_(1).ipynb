{
 "cells": [
  {
   "cell_type": "markdown",
   "metadata": {},
   "source": [
    "# [Machine Learning] Digit Classifier_(1)\n",
    "\n",
    "\n",
    "### Student ID : 20144367, Name : Lee, Donghyun\n",
    "\n",
    "\n",
    "## 1. Problem\n",
    "\n",
    "#### [Binary Classifier]\n",
    "\n",
    "Build a binary classifier for each digit against all the other digits at MNIST dataset.\n",
    "\n",
    "Let $ x = (x_1, x_2, ... , x_m) $ be a vector representing an image in the dataset.\n",
    "\n",
    "The prediction function $ f_d(x; w) $ is defined by the linear combination of data $(1, x)$ and the model parameter w for each digit $d $:\n",
    "$$f_d(x; w) = w_0 * 1 + w_1 * x_1 + w_2 * x_2 + ... + w_m * x_m where $w = (w_0, w_1, ... , w_m)$$\n",
    "\n",
    "The prediction function $f_d(x; w)$ should have the following values:\n",
    "$$f_d(x; w) = +1 if label(x) = d$$\n",
    "$$f_d(x; w) = -1 if label(x) is not d$$\n",
    "\n",
    "The optimal model parameter w is obtained by minimizing the following objective function for each digit d :\n",
    "$$\\sum_i ( f_d(x^{(i)}; w) - y^{(i)} )^2$$\n",
    "\n",
    "and the label of input x is given by:\n",
    "\n",
    "$$argmax_d f_d(x; w)$$\n",
    "\n",
    "1. Compute an optimal model parameter using the training dataset for each classifier $f_d(x, w)$\n",
    "2. Compute (1) true positive rate, (2) error rate using (1) training dataset and (2) testing dataset.\n",
    "\n",
    "## 2. Codes"
   ]
  },
  {
   "cell_type": "markdown",
   "metadata": {},
   "source": [
    "#### Libraries"
   ]
  },
  {
   "cell_type": "code",
   "execution_count": 1,
   "metadata": {},
   "outputs": [],
   "source": [
    "import numpy as np\n",
    "import matplotlib.pyplot as plt\n",
    "import copy"
   ]
  },
  {
   "cell_type": "markdown",
   "metadata": {},
   "source": [
    "#### Global Variables"
   ]
  },
  {
   "cell_type": "code",
   "execution_count": 2,
   "metadata": {},
   "outputs": [],
   "source": [
    "ROWS = 28\n",
    "COLS = 28"
   ]
  },
  {
   "cell_type": "markdown",
   "metadata": {},
   "source": [
    "#### Function readFile : Read file in given file path"
   ]
  },
  {
   "cell_type": "code",
   "execution_count": 3,
   "metadata": {},
   "outputs": [],
   "source": [
    "def readFile(filePath) :\n",
    "    inputFile = open(filePath, 'r')\n",
    "    dataset = inputFile.readlines()\n",
    "    inputFile.close()\n",
    "    \n",
    "    datasetCnt = len(dataset)\n",
    "    list_labels = np.zeros(datasetCnt, dtype = int)\n",
    "    list_images = np.zeros((datasetCnt, ROWS * COLS), dtype = float)\n",
    "    \n",
    "    idx = 0    \n",
    "    for data in dataset :        \n",
    "        list_data = data.split(',')\n",
    "        label = list_data[0]\n",
    "        image = list_data[1:]\n",
    "        \n",
    "        list_labels[idx] = label\n",
    "        list_images[idx] = image\n",
    "        idx += 1\n",
    "    \n",
    "    return list_labels, list_images, datasetCnt"
   ]
  },
  {
   "cell_type": "markdown",
   "metadata": {},
   "source": [
    "#### Function initEquationSetup : Setup matrix A and Vector b for equation Ax = b"
   ]
  },
  {
   "cell_type": "code",
   "execution_count": 4,
   "metadata": {},
   "outputs": [],
   "source": [
    "def initEquationSetup (list_labels, datasetCnt, digit) :\n",
    "    rowCnt = datasetCnt\n",
    "    colCnt = ROWS * COLS\n",
    "    \n",
    "    vector_b = np.zeros(rowCnt, dtype = float)\n",
    "    \n",
    "    for i in range(rowCnt) :\n",
    "        if list_labels[i] == digit : vector_b[i] = 1\n",
    "        else : vector_b[i] = -1\n",
    "    \n",
    "    return vector_b"
   ]
  },
  {
   "cell_type": "markdown",
   "metadata": {},
   "source": [
    "#### Function pseudoInv : Calculate pseudo inverse"
   ]
  },
  {
   "cell_type": "code",
   "execution_count": 5,
   "metadata": {},
   "outputs": [],
   "source": [
    "def pseudoInv(mtrx_A) :\n",
    "    A = mtrx_A\n",
    "    print(\"Pseudo inverse calculated.\")\n",
    "    return np.linalg.pinv(A)"
   ]
  },
  {
   "cell_type": "markdown",
   "metadata": {},
   "source": [
    "#### Function leastSquare : Conduct least square for matrix A and vector b"
   ]
  },
  {
   "cell_type": "code",
   "execution_count": 6,
   "metadata": {},
   "outputs": [],
   "source": [
    "def leastSquare(A_pInv, vector_b) :\n",
    "    b = vector_b\n",
    "    \n",
    "    x = np.matmul(A_pInv, b)\n",
    "    return x"
   ]
  },
  {
   "cell_type": "markdown",
   "metadata": {},
   "source": [
    "#### Function calculateAccuracy : Calculate accuracy using estimated vector and answer vector"
   ]
  },
  {
   "cell_type": "code",
   "execution_count": 7,
   "metadata": {},
   "outputs": [],
   "source": [
    "def calculateAccuracy(estimated_vector, answer_vector) :\n",
    "    TP = FP = TN = FN = 0\n",
    "\n",
    "    for i in range(len(estimated_vector)) :\n",
    "        if estimated_vector[i] >= 0 : # Judge as zero\n",
    "            if answer_vector[i] == 1 : # Zero for real (TP)\n",
    "                TP += 1\n",
    "            elif answer_vector[i] == -1 : # But not zero, actually (FP, Wrong!!)\n",
    "                FP += 1\n",
    "        else :# Judge as non-zero\n",
    "            if answer_vector[i] == 1 : # True negative (FN, Wrong!!)\n",
    "                FN += 1\n",
    "            elif answer_vector[i] == -1 : # Non-zero for real (TN)\n",
    "                TN += 1\n",
    " \n",
    "    return TP, FP, FN, TN"
   ]
  },
  {
   "cell_type": "markdown",
   "metadata": {},
   "source": [
    "#### Digit Classifying"
   ]
  },
  {
   "cell_type": "code",
   "execution_count": 8,
   "metadata": {},
   "outputs": [
    {
     "name": "stdout",
     "output_type": "stream",
     "text": [
      "Pseudo inverse calculated.\n",
      "Digit classifying finished.\n"
     ]
    }
   ],
   "source": [
    "trainingFilePath = \"mnist_train.csv\"\n",
    "testingFilePath = \"mnist_test.csv\"\n",
    "\n",
    "list_labels, list_images, datasetCnt = readFile(trainingFilePath)\n",
    "Tlist_labels, Tlist_images, TdatasetCnt = readFile(testingFilePath)\n",
    "\n",
    "list_digitClassifier = []\n",
    "list_trainingEstVector = []\n",
    "list_testEstVector = []\n",
    "list_answer = []\n",
    "list_Tanswer = []\n",
    "\n",
    "\n",
    "mtrx_A = copy.deepcopy(list_images)\n",
    "Tmtrx_A = copy.deepcopy(Tlist_images)\n",
    "A_pInv = pseudoInv(mtrx_A)\n",
    "\n",
    "for digit in range(10) :\n",
    "    vector_b = initEquationSetup(list_labels, datasetCnt, digit)\n",
    "    Tvector_b = initEquationSetup(Tlist_labels, TdatasetCnt, digit)\n",
    "    list_answer.append(vector_b)\n",
    "    list_Tanswer.append(Tvector_b)\n",
    "\n",
    "    x = leastSquare(A_pInv, vector_b)\n",
    "    list_digitClassifier.append(x)\n",
    "\n",
    "    estimated_vector = np.matmul(mtrx_A, x)\n",
    "    list_trainingEstVector.append(estimated_vector)\n",
    "\n",
    "    Testimated_vector = np.matmul(Tmtrx_A, x)    \n",
    "    list_testEstVector.append(Testimated_vector)\n",
    "print(\"Digit classifying finished.\")"
   ]
  },
  {
   "cell_type": "markdown",
   "metadata": {},
   "source": [
    "#### Accuracy for Training Data set"
   ]
  },
  {
   "cell_type": "code",
   "execution_count": 9,
   "metadata": {},
   "outputs": [
    {
     "name": "stdout",
     "output_type": "stream",
     "text": [
      "[ Accuracy for Training Data set] \n",
      "\n",
      "True Positive : 42506 / 60000, (70.8 %)\n",
      "False Positive : 3463 / 60000, (5.8 %)\n",
      "True Negative : 5421 / 60000, (9.0 %)\n",
      "False Negative : 8610 / 60000, (14.3 %)\n"
     ]
    }
   ],
   "source": [
    "estimated_labels = []\n",
    "TP = TN = FP = FN = 0\n",
    "\n",
    "for i in range(datasetCnt) :\n",
    "    estVal = np.zeros(10, dtype = float)\n",
    "    for j in range(10) :\n",
    "        estVal[j] = list_trainingEstVector[j][i]\n",
    "    estIdx = np.argmax(estVal)\n",
    "\n",
    "    estimated_labels.append(estIdx)\n",
    "    if estVal[estIdx] >= 0 and list_answer[estIdx][i] == 1 :\n",
    "        TP += 1\n",
    "    elif estVal[estIdx] < 0 and list_answer[estIdx][i] == -1 :\n",
    "        TN += 1\n",
    "    elif estVal[estIdx] >= 0 and list_answer[estIdx][i] == -1 :\n",
    "        FP += 1\n",
    "    elif estVal[estIdx] < 0 and list_answer[estIdx][i] == 1 :\n",
    "        FN += 1\n",
    "    \n",
    "print(\"[ Accuracy for Training Data set] \\n\")\n",
    "print(\"True Positive : %d / %d, (%.1f\" % (TP, datasetCnt, round(TP / datasetCnt * 100, 1)), \"%)\")\n",
    "print(\"False Positive : %d / %d, (%.1f\" % (FP, datasetCnt, round(FP / datasetCnt * 100, 1)), \"%)\")\n",
    "print(\"True Negative : %d / %d, (%.1f\" % (TN, datasetCnt, round(TN / datasetCnt * 100, 1)), \"%)\")\n",
    "print(\"False Negative : %d / %d, (%.1f\" % (FN, datasetCnt, round(FN / datasetCnt * 100, 1)), \"%)\")"
   ]
  },
  {
   "cell_type": "markdown",
   "metadata": {},
   "source": [
    "#### Accuracy for Testing Data set"
   ]
  },
  {
   "cell_type": "code",
   "execution_count": 10,
   "metadata": {},
   "outputs": [
    {
     "name": "stdout",
     "output_type": "stream",
     "text": [
      "[ Accuracy for Test Data set] \n",
      "\n",
      "True Positive : 7013 / 10000, (70.1 %)\n",
      "False Positive : 564 / 10000, (5.6 %)\n",
      "True Negative : 902 / 10000, (9.0 %)\n",
      "False Negative : 1521 / 10000, (15.2 %)\n"
     ]
    }
   ],
   "source": [
    "estimated_labels = []\n",
    "TP = TN = FP = FN = 0\n",
    "\n",
    "for i in range(TdatasetCnt) :\n",
    "    estVal = np.zeros(10, dtype = float)\n",
    "    for j in range(10) :\n",
    "        estVal[j] = list_testEstVector[j][i]\n",
    "    estIdx = np.argmax(estVal)\n",
    "\n",
    "    estimated_labels.append(estIdx)\n",
    "    if estVal[estIdx] >= 0 and list_Tanswer[estIdx][i] == 1 :\n",
    "        TP += 1\n",
    "    elif estVal[estIdx] < 0 and list_Tanswer[estIdx][i] == -1 :\n",
    "        TN += 1\n",
    "    elif estVal[estIdx] >= 0 and list_Tanswer[estIdx][i] == -1 :\n",
    "        FP += 1\n",
    "    elif estVal[estIdx] < 0 and list_Tanswer[estIdx][i] == 1 :\n",
    "        FN += 1\n",
    "    \n",
    "print(\"[ Accuracy for Test Data set] \\n\")\n",
    "print(\"True Positive : %d / %d, (%.1f\" % (TP, TdatasetCnt, round(TP / TdatasetCnt, 3) * 100), \"%)\")\n",
    "print(\"False Positive : %d / %d, (%.1f\" % (FP, TdatasetCnt, round(FP / TdatasetCnt, 3) * 100), \"%)\")\n",
    "print(\"True Negative : %d / %d, (%.1f\" % (TN, TdatasetCnt, round(TN / TdatasetCnt, 3) * 100), \"%)\")\n",
    "print(\"False Negative : %d / %d, (%.1f\" % (FN, TdatasetCnt, round(FN / TdatasetCnt, 3) * 100), \"%)\")"
   ]
  },
  {
   "cell_type": "code",
   "execution_count": null,
   "metadata": {},
   "outputs": [],
   "source": []
  }
 ],
 "metadata": {
  "kernelspec": {
   "display_name": "Python 3",
   "language": "python",
   "name": "python3"
  },
  "language_info": {
   "codemirror_mode": {
    "name": "ipython",
    "version": 3
   },
   "file_extension": ".py",
   "mimetype": "text/x-python",
   "name": "python",
   "nbconvert_exporter": "python",
   "pygments_lexer": "ipython3",
   "version": "3.7.1"
  }
 },
 "nbformat": 4,
 "nbformat_minor": 2
}
