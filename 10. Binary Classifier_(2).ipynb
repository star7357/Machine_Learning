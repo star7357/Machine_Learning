{
 "cells": [
  {
   "cell_type": "markdown",
   "metadata": {},
   "source": [
    "# [Machine Learning] Binary Classifier_(2)\n",
    "\n",
    "\n",
    "### Student ID : 20144367, Name : Lee, Donghyun\n",
    "\n",
    "\n",
    "## 1. Problem\n",
    "\n",
    "Build a binary classifier based on k random features for each digit against all the other digits at MNIST dataset.\n",
    "\n",
    "Let $x = (x_1, x_2, ... , x_m)$ be a vector representing an image in the dataset.\n",
    "\n",
    "The prediction function $f_d(x; w)$ is defined by the linear combination of input vector x and the model parameter w for each digit d :\n",
    "\n",
    "$$f_d(x; w) = w_0 * 1 + w_1 * g_1 + w_2 * g_2 + ... + w_k * g_k $$\n",
    "\n",
    "where $w = (w_0, w_1, ... , w_k)$ and the basis function $g_k$ is defined by the inner product of random vector $r_k$ and input vector $x$. \n",
    "\n",
    "You may want to try to use $g_k = max( inner production( r_k, x ), 0 )$ to see if it improves the performance.\n",
    "\n",
    "The prediction function $f_d(x; w)$ should have the following values:\n",
    "\n",
    "$$f_d(x; w) = +1 if label(x) = d$$\n",
    "$$f_d(x; w) = -1 if label(x) is not d$$\n",
    "\n",
    "The optimal model parameter w is obtained by minimizing the following objective function for each digit d :\n",
    "$$\\sum_i ( f_d(x^{(i)}; w) - y^{(i)} )^2$$\n",
    "\n",
    "and the label of input x is given by:\n",
    "\n",
    "$$argmax_d f_d(x; w)$$\n",
    "\n",
    "1. Compute an optimal model parameter using the training dataset for each classifier $f_d(x, w)$\n",
    "2. Compute (1) true positive rate, (2) error rate using (1) training dataset and (2) testing dataset.\n",
    "## 2. Codes"
   ]
  },
  {
   "cell_type": "markdown",
   "metadata": {},
   "source": [
    "#### Libraries"
   ]
  },
  {
   "cell_type": "code",
   "execution_count": 1,
   "metadata": {},
   "outputs": [],
   "source": [
    "import numpy as np\n",
    "import copy\n",
    "import random"
   ]
  },
  {
   "cell_type": "markdown",
   "metadata": {},
   "source": [
    "#### Global Variables"
   ]
  },
  {
   "cell_type": "code",
   "execution_count": 2,
   "metadata": {},
   "outputs": [],
   "source": [
    "ROWS = 28\n",
    "COLS = 28\n",
    "trainingFilePath = \"mnist_train.csv\"\n",
    "testingFilePath = \"mnist_test.csv\""
   ]
  },
  {
   "cell_type": "markdown",
   "metadata": {},
   "source": [
    "#### Class DigitClassifier : Data structures and functions for Digit classifying"
   ]
  },
  {
   "cell_type": "code",
   "execution_count": 3,
   "metadata": {},
   "outputs": [],
   "source": [
    "class DigitClassifier :\n",
    "    list_imageLabels = []     # Save the labels for each images in MNIST data set\n",
    "    list_images = []          # Save the information about whole images in MNIST data set\n",
    "    featureMtrx = []          # Feature matrix (10 x imageCounts matrix)\n",
    "    answerMtrx = []           # Answer matrix (10 x imageCounts matrix)\n",
    "    estimatedMtrx = []        # Estimated matix using input images and feature matrix\n",
    "    estimatedLabels = []      # Labels determined by values in estimated matrix\n",
    "    weightMtrx = []           # Weight matrix filled with random Gaussian value N ~ (0, stddev)\n",
    "    list_weightedImages = []  # weighted images\n",
    "    datasetCnt = []           # total image counts\n",
    "    \n",
    "    # Initialize related variables using input file in filepath\n",
    "    def __init__(self, filePath) :\n",
    "        try :\n",
    "            inputFile = open(filePath, 'r')\n",
    "            dataset = inputFile.readlines()\n",
    "            inputFile.close()\n",
    "        except Exception as e :\n",
    "            print(e)\n",
    "        \n",
    "        datasetCnt = len(dataset)\n",
    "        list_labels = np.zeros(datasetCnt, dtype = int)\n",
    "        list_images = np.zeros((datasetCnt, ROWS * COLS), dtype = float)\n",
    "\n",
    "        idx = 0    \n",
    "        for data in dataset :        \n",
    "            list_data = data.split(',')\n",
    "            label = list_data[0]\n",
    "            image = list_data[1:]\n",
    "\n",
    "            list_labels[idx] = label\n",
    "            list_images[idx] = image\n",
    "            idx += 1\n",
    "        \n",
    "        self.list_images = list_images\n",
    "        self.list_imageLabels = list_labels\n",
    "        self.datasetCnt = datasetCnt\n",
    "#        print(\"File loaded and labels, pixels info and dataset count have been updated.\")\n",
    "#        print(\"Total dataset count : %d\" % self.datasetCnt)\n",
    "    \n",
    "    # Create answersheet for each digit using imageLabels\n",
    "    def createAnswerSheet(self) :    \n",
    "        self.answerMtrx = np.zeros((10,self.datasetCnt), dtype = int)\n",
    "        for digit in range(10) :\n",
    "            for idx in range(self.datasetCnt) :\n",
    "                if self.list_imageLabels[idx] == digit : self.answerMtrx[digit][idx] = 1\n",
    "                else : self.answerMtrx[digit][idx] = -1\n",
    "#        print(\"Answersheet has been created.\")\n",
    "        \n",
    "    # Create weight matrix with Gaussian random values\n",
    "    def createWeightMtrx(self, stddev) :\n",
    "\n",
    "        self.weightMtrx = np.zeros((ROWS * COLS, ROWS * COLS), dtype = float)\n",
    "        for i in range(ROWS * COLS) :\n",
    "            for j in range(ROWS * COLS) :\n",
    "                self.weightMtrx[i][j] = random.gauss(0.0,stddev)\n",
    "#        print(\"Weight matrix has been created.\")\n",
    "    \n",
    "    # Create feature matrix using Pseudo inverse matrix and weight matrix\n",
    "    def createFeatureMtrx(self) :\n",
    "        self.featureMtrx = np.zeros((10, ROWS * COLS), dtype = float)\n",
    "        self.list_weightedImages = np.matmul(self.list_images, self.weightMtrx)\n",
    "        \n",
    "        for i in range(self.datasetCnt) :\n",
    "            for j in range(ROWS * COLS) :\n",
    "                self.list_weightedImages[i][j] = max(0, self.list_weightedImages[i][j])\n",
    "                \n",
    "        pseudoInv = np.linalg.pinv(self.list_weightedImages)\n",
    "#        print(\"Pseudo Inv - rows : %d, cols : %d\" % (len(pseudoInv), len(pseudoInv[0])))\n",
    "\n",
    "        for digit in range(10) :\n",
    "            self.featureMtrx[digit] = np.matmul(pseudoInv, self.answerMtrx[digit])\n",
    "#        print(\"Feature matrix has been created.\")\n",
    "    \n",
    "    # Import metrices weightMtrx and featureMtrx\n",
    "    def importMetrices(self, weightMtrx, featureMtrx) :\n",
    "        self.weightMtrx = weightMtrx\n",
    "        self.featureMtrx = featureMtrx\n",
    "        self.list_weightedImages = np.matmul(self.list_images, self.weightMtrx)     \n",
    "        \n",
    "        for i in range(self.datasetCnt) :\n",
    "            for j in range(ROWS * COLS) :\n",
    "                self.list_weightedImages[i][j] = max(0, self.list_weightedImages[i][j])\n",
    "\n",
    "\n",
    "    # Classify the digit images based on feature matrix\n",
    "    def classifyDigits(self) :\n",
    "        self.estimatedMtrx = np.zeros((10, self.datasetCnt), dtype = float)\n",
    "\n",
    "        for digit in range(10) :\n",
    "#            self.estimatedMtrx[digit] = np.matmul(self.list_images,self.featureMtrx[digit])\n",
    "            self.estimatedMtrx[digit] = np.matmul(self.list_weightedImages, self.featureMtrx[digit])\n",
    "#        print(\"Estimated matrix has been calculated.\")\n",
    "\n",
    "        TP = TN = FP = FN = 0\n",
    "        for i in range(self.datasetCnt) :\n",
    "            estVal = np.zeros(10, dtype = float)\n",
    "            answers = np.zeros(10,dtype = float)\n",
    "            for j in range(10) :\n",
    "                estVal[j] = self.estimatedMtrx[j][i]\n",
    "                answers[j] = self.answerMtrx[j][i]\n",
    "            estIdx = np.argmax(estVal)\n",
    "            #print(\"Estimated Values : \",estVal,\", Estimated index : \", estIdx, \", Answer : \", self.answerMtrx[estIdx][i])\n",
    "            #print(\"Real values : \", answers)\n",
    "\n",
    "            self.estimatedLabels.append(estIdx)\n",
    "            if estVal[estIdx] >= 0 and self.answerMtrx[estIdx][i] == 1 :\n",
    "                TP += 1\n",
    "            elif estVal[estIdx] < 0 and self.answerMtrx[estIdx][i] == -1 :\n",
    "                TN += 1\n",
    "            elif estVal[estIdx] >= 0 and self.answerMtrx[estIdx][i] == -1 :\n",
    "                FP += 1\n",
    "            elif estVal[estIdx] < 0 and self.answerMtrx[estIdx][i] == 1 :\n",
    "                FN += 1\n",
    "\n",
    "        return TP, TN, FP, FN"
   ]
  },
  {
   "cell_type": "markdown",
   "metadata": {},
   "source": [
    "#### Accuracy for Training Data set"
   ]
  },
  {
   "cell_type": "code",
   "execution_count": 4,
   "metadata": {},
   "outputs": [
    {
     "name": "stdout",
     "output_type": "stream",
     "text": [
      "[ Accuracy for Training Data set] \n",
      "\n",
      "True Positive : 51451 / 60000, (85.8 %)\n",
      "False Positive : 1105 / 60000, (1.8 %)\n",
      "True Negative : 2569 / 60000, (4.3 %)\n",
      "False Negative : 4875 / 60000, (8.1 %)\n"
     ]
    }
   ],
   "source": [
    "trainingDigitClassifier = DigitClassifier(trainingFilePath)\n",
    "trainingDigitClassifier.createAnswerSheet()\n",
    "trainingDigitClassifier.createWeightMtrx(2)\n",
    "trainingDigitClassifier.createFeatureMtrx()\n",
    "(TP, TN, FP, FN) = trainingDigitClassifier.classifyDigits()\n",
    "\n",
    "datasetCnt = trainingDigitClassifier.datasetCnt\n",
    "print(\"[ Accuracy for Training Data set] \\n\")\n",
    "print(\"True Positive : %d / %d, (%.1f\" % (TP, datasetCnt, round(TP / datasetCnt * 100, 2)), \"%)\")\n",
    "print(\"False Positive : %d / %d, (%.1f\" % (FP, datasetCnt, round(FP / datasetCnt * 100, 2)), \"%)\")\n",
    "print(\"True Negative : %d / %d, (%.1f\" % (TN, datasetCnt, round(TN / datasetCnt * 100, 2)), \"%)\")\n",
    "print(\"False Negative : %d / %d, (%.1f\" % (FN, datasetCnt, round(FN / datasetCnt * 100, 2)), \"%)\")"
   ]
  },
  {
   "cell_type": "markdown",
   "metadata": {},
   "source": [
    "#### Accuracy for Testing Data set"
   ]
  },
  {
   "cell_type": "code",
   "execution_count": 5,
   "metadata": {},
   "outputs": [
    {
     "name": "stdout",
     "output_type": "stream",
     "text": [
      "[ Accuracy for Testing Data set] \n",
      "\n",
      "True Positive : 8586 / 10000, (85.9 %)\n",
      "False Positive : 202 / 10000, (2.0 %)\n",
      "True Negative : 410 / 10000, (4.1 %)\n",
      "False Negative : 802 / 10000, (8.0 %)\n"
     ]
    }
   ],
   "source": [
    "testingDigitClassifier = DigitClassifier(testingFilePath)\n",
    "testingDigitClassifier.createAnswerSheet()\n",
    "testingDigitClassifier.importMetrices(trainingDigitClassifier.weightMtrx, trainingDigitClassifier.featureMtrx)\n",
    "(TP,TN,FP,FN) = testingDigitClassifier.classifyDigits()\n",
    "\n",
    "datasetCnt = testingDigitClassifier.datasetCnt\n",
    "print(\"[ Accuracy for Testing Data set] \\n\")\n",
    "print(\"True Positive : %d / %d, (%.1f\" % (TP, datasetCnt, round(TP / datasetCnt * 100, 2)), \"%)\")\n",
    "print(\"False Positive : %d / %d, (%.1f\" % (FP, datasetCnt, round(FP / datasetCnt * 100, 2)), \"%)\")\n",
    "print(\"True Negative : %d / %d, (%.1f\" % (TN, datasetCnt, round(TN / datasetCnt * 100, 2)), \"%)\")\n",
    "print(\"False Negative : %d / %d, (%.1f\" % (FN, datasetCnt, round(FN / datasetCnt * 100, 2)), \"%)\")\n"
   ]
  },
  {
   "cell_type": "code",
   "execution_count": null,
   "metadata": {},
   "outputs": [],
   "source": []
  },
  {
   "cell_type": "code",
   "execution_count": null,
   "metadata": {},
   "outputs": [],
   "source": []
  }
 ],
 "metadata": {
  "kernelspec": {
   "display_name": "Python 3",
   "language": "python",
   "name": "python3"
  },
  "language_info": {
   "codemirror_mode": {
    "name": "ipython",
    "version": 3
   },
   "file_extension": ".py",
   "mimetype": "text/x-python",
   "name": "python",
   "nbconvert_exporter": "python",
   "pygments_lexer": "ipython3",
   "version": "3.7.1"
  }
 },
 "nbformat": 4,
 "nbformat_minor": 2
}
