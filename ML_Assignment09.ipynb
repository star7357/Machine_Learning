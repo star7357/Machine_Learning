{
 "cells": [
  {
   "cell_type": "markdown",
   "metadata": {},
   "source": [
    "# [Machine Learning] Binary Classifier to Classify Digit 0\n",
    "\n",
    "\n",
    "### Student ID : 20144367, Name : Lee, Donghyun\n",
    "\n",
    "\n",
    "## 1. Problem\n",
    "\n",
    "#### [Binary Classifier to Classify Digit 0]\n",
    "\n",
    "Build a binary classifier to classify digit 0 against all the other digits at MNIST dataset.\n",
    "\n",
    "Let $x = (x_1, x_2, ... , x_m)$ be a vector representing an image in the dataset.\n",
    "\n",
    "The prediction function $f_w(x)$ is defined by the linear combination of data $(1, x)$ and the model parameter w:\n",
    "\n",
    "$$f_w(x) = w_0 * 1 + w_1 * x_1 + w_2 * x_2 + ... + w_m * x_m , w = (w_0, w_1, ... , w_m)$$\n",
    "\n",
    "The prediction function $f_w(x)$ should have the following values:\n",
    "\n",
    "&nbsp;&nbsp;&nbsp;&nbsp;&nbsp;&nbsp;&nbsp;&nbsp;$ f_w(x) = +1$ if $label(x) = 0$ <br/>\n",
    "&nbsp;&nbsp;&nbsp;&nbsp;&nbsp;&nbsp;&nbsp;&nbsp;$ f_w(x) = -1$ if $label(x)$ is not $0$\n",
    "\n",
    "The optimal model parameter w is obtained by minimizing the following objective function:\n",
    "$$\\sum_i ( f_w(x^{(i)} - y^{(i)})^2$$\n",
    "\n",
    "1. Compute an optimal model parameter using the training dataset\n",
    "2. Compute <br/>\n",
    "    (1) True Positive, <br/>\n",
    "    (2) False Positive, <br/>\n",
    "    (3) True Negative, <br/>\n",
    "    (4) False Negative <br/>\n",
    "based on the computed optimal model parameter using (1) training dataset and (2) testing dataset.\n",
    "\n",
    "\n",
    "## 2. Codes"
   ]
  },
  {
   "cell_type": "markdown",
   "metadata": {},
   "source": [
    "#### Libraries"
   ]
  },
  {
   "cell_type": "code",
   "execution_count": 4,
   "metadata": {},
   "outputs": [],
   "source": [
    "import numpy as np\n",
    "import matplotlib.pyplot as plt\n",
    "import copy"
   ]
  },
  {
   "cell_type": "markdown",
   "metadata": {},
   "source": [
    "#### Global Variables"
   ]
  },
  {
   "cell_type": "code",
   "execution_count": 5,
   "metadata": {},
   "outputs": [],
   "source": [
    "ROWS = 28\n",
    "COLS = 28"
   ]
  },
  {
   "cell_type": "markdown",
   "metadata": {},
   "source": [
    "#### Function readFile : Read file in given file path"
   ]
  },
  {
   "cell_type": "code",
   "execution_count": 6,
   "metadata": {},
   "outputs": [],
   "source": [
    "def readFile(filePath) :\n",
    "    inputFile = open(filePath, 'r')\n",
    "    dataset = inputFile.readlines()\n",
    "    inputFile.close()\n",
    "    \n",
    "    datasetCnt = len(dataset)\n",
    "    list_labels = np.zeros(datasetCnt, dtype = int)\n",
    "    list_images = np.zeros((datasetCnt, ROWS * COLS), dtype = float)\n",
    "    \n",
    "    idx = 0    \n",
    "    for data in dataset :        \n",
    "        list_data = data.split(',')\n",
    "        label = list_data[0]\n",
    "        image = list_data[1:]\n",
    "        \n",
    "        list_labels[idx] = label\n",
    "        list_images[idx] = image\n",
    "        idx += 1\n",
    "    \n",
    "    return list_labels, list_images, datasetCnt"
   ]
  },
  {
   "cell_type": "markdown",
   "metadata": {},
   "source": [
    "#### Function initEquationSetup : Setup matrix A and Vector b for equation Ax = b"
   ]
  },
  {
   "cell_type": "code",
   "execution_count": 7,
   "metadata": {},
   "outputs": [],
   "source": [
    "def initEquationSetup (list_labels, list_images, datasetCnt) :\n",
    "    rowCnt = datasetCnt\n",
    "    colCnt = ROWS * COLS\n",
    "    \n",
    "    mtrx_A = np.zeros((rowCnt,colCnt), dtype = float)\n",
    "    vector_b = np.zeros(rowCnt, dtype = float)\n",
    "    \n",
    "    mtrx_A = copy.deepcopy(list_images)\n",
    "    \n",
    "    for i in range(rowCnt) :\n",
    "        if list_labels[i] == 0 : vector_b[i] = 1\n",
    "        else : vector_b[i] = -1\n",
    "    \n",
    "    return mtrx_A, vector_b"
   ]
  },
  {
   "cell_type": "markdown",
   "metadata": {},
   "source": [
    "#### Function leastSquare : Conduct least square for matrix A and vector b"
   ]
  },
  {
   "cell_type": "code",
   "execution_count": 8,
   "metadata": {},
   "outputs": [],
   "source": [
    "def leastSquare(mtrx_A, vector_b) :\n",
    "    \n",
    "    A = mtrx_A\n",
    "    b = vector_b\n",
    "    \n",
    "    A_pInv = np.linalg.pinv(A)\n",
    "    x = np.matmul(A_pInv, b)\n",
    "    \n",
    "    return x"
   ]
  },
  {
   "cell_type": "markdown",
   "metadata": {},
   "source": [
    "#### Function calculateAccuracy : Calculate accuracy using estimated vector and answer vector"
   ]
  },
  {
   "cell_type": "code",
   "execution_count": 9,
   "metadata": {},
   "outputs": [],
   "source": [
    "def calculateAccuracy(estimated_vector, answer_vector) :\n",
    "    TP = FP = TN = FN = 0\n",
    "\n",
    "    for i in range(len(estimated_vector)) :\n",
    "        if estimated_vector[i] >= 0 : # Judge as zero\n",
    "            if answer_vector[i] == 1 : # Zero for real (TP)\n",
    "                TP += 1\n",
    "            elif answer_vector[i] == -1 : # But not zero, actually (FP, Wrong!!)\n",
    "                FP += 1\n",
    "        else :# Judge as non-zero\n",
    "            if answer_vector[i] == 1 : # True negative (FN, Wrong!!)\n",
    "                FN += 1\n",
    "            elif answer_vector[i] == -1 : # Non-zero for real (TN)\n",
    "                TN += 1\n",
    " \n",
    "    return TP, FP, FN, TN"
   ]
  },
  {
   "cell_type": "markdown",
   "metadata": {},
   "source": [
    "#### Function zeroClassifier : Classifiying zero and non-zero"
   ]
  },
  {
   "cell_type": "code",
   "execution_count": 10,
   "metadata": {},
   "outputs": [],
   "source": [
    "def zeroClassfier(trainingFilePath, testingFilePath) :\n",
    "    list_labels, list_images, datasetCnt = readFile(trainingFilePath)\n",
    "    Tlist_labels, Tlist_images, TdatasetCnt = readFile(testingFilePath)\n",
    "    \n",
    "    mtrx_A, vector_b = initEquationSetup(list_labels, list_images, datasetCnt)\n",
    "    Tmtrx_A, Tvector_b = initEquationSetup(Tlist_labels, Tlist_images, TdatasetCnt)\n",
    "    \n",
    "    x = leastSquare(mtrx_A, vector_b)\n",
    "\n",
    "    estimated_vector = np.matmul(mtrx_A, x)\n",
    "    (TP,FP,FN,TN) = calculateAccuracy(estimated_vector, vector_b)\n",
    "\n",
    "    print(\"[ Accuracy for Training Data set] \\n\")\n",
    "    print(\"True Positive : %d / %d, (%.3f)\" % (TP, datasetCnt, round(TP / datasetCnt, 3)))\n",
    "    print(\"False Positive : %d / %d, (%.3f)\" % (FP, datasetCnt, round(FP / datasetCnt, 3)))\n",
    "    print(\"True Negative : %d / %d, (%.3f)\" % (TN, datasetCnt, round(TN / datasetCnt, 3)))\n",
    "    print(\"False Negative : %d / %d, (%.3f)\" % (FN, datasetCnt, round(FN / datasetCnt, 3)))\n",
    "    \n",
    "    estimated_vector = np.matmul(Tmtrx_A, x)    \n",
    "    (TP,FP,FN,TN) = calculateAccuracy(estimated_vector, Tvector_b)\n",
    "\n",
    "    print(\"\\n[ Accuracy for Test Data set ]\\n\")\n",
    "    print(\"True Positive : %d / %d, (%.3f)\" % (TP, TdatasetCnt, round(TP / TdatasetCnt, 3)))\n",
    "    print(\"False Positive : %d / %d, (%.3f)\" % (FP, TdatasetCnt, round(FP / TdatasetCnt, 3)))\n",
    "    print(\"True Negative : %d / %d, (%.3f)\" % (TN, TdatasetCnt, round(TN / TdatasetCnt, 3)))\n",
    "    print(\"False Negative : %d / %d, (%.3f)\" % (FN, TdatasetCnt, round(FN / TdatasetCnt, 3)))\n"
   ]
  },
  {
   "cell_type": "markdown",
   "metadata": {},
   "source": [
    "#### Zero classifying"
   ]
  },
  {
   "cell_type": "code",
   "execution_count": 11,
   "metadata": {},
   "outputs": [
    {
     "name": "stdout",
     "output_type": "stream",
     "text": [
      "[ Accuracy for Training Data set] \n",
      "\n",
      "True Positive : 5347 / 60000, (0.089)\n",
      "False Positive : 318 / 60000, (0.005)\n",
      "True Negative : 53759 / 60000, (0.896)\n",
      "False Negative : 576 / 60000, (0.010)\n",
      "\n",
      "[ Accuracy for Test Data set ]\n",
      "\n",
      "True Positive : 917 / 10000, (0.092)\n",
      "False Positive : 61 / 10000, (0.006)\n",
      "True Negative : 8959 / 10000, (0.896)\n",
      "False Negative : 63 / 10000, (0.006)\n"
     ]
    }
   ],
   "source": [
    "trainingFilePath = \"mnist_train.csv\"\n",
    "testingFilePath = \"mnist_test.csv\"\n",
    "\n",
    "zeroClassfier(trainingFilePath, testingFilePath)"
   ]
  }
 ],
 "metadata": {
  "kernelspec": {
   "display_name": "Python 3",
   "language": "python",
   "name": "python3"
  },
  "language_info": {
   "codemirror_mode": {
    "name": "ipython",
    "version": 3
   },
   "file_extension": ".py",
   "mimetype": "text/x-python",
   "name": "python",
   "nbconvert_exporter": "python",
   "pygments_lexer": "ipython3",
   "version": "3.7.1"
  }
 },
 "nbformat": 4,
 "nbformat_minor": 2
}
