{
 "cells": [
  {
   "cell_type": "markdown",
   "metadata": {},
   "source": [
    "# [Machine Learning] L2_Norm\n",
    "\n",
    "\n",
    "### Student ID : 20144367, Name : Lee, Donghyun\n",
    "\n",
    "\n",
    "## 1. Problem\n",
    "\n",
    "Use L2-Norm to compute the average images for each label(digit) in 'MNIST-train.csv' file. The file contains 60000 28x28 image files represented by arrays consist of 0~255 grey-scale numbers. An example is shown below.\n",
    "\n",
    "\n",
    "\\begin{array}{rr} \\hline\n",
    "columns &[0] &[1] &[2] &[3] &[\\dots] &[419] &[\\dots] &[28\\times28] \\\\ \\hline \n",
    "k^{th} row &1 &0 &0 &0 &\\dots &114 &\\dots &0 \\\\ \\hline\n",
    "\\end{array}\n",
    "\n",
    "The first element[0] indicates the digit between 0~9, and each values in $[n]$ represents the color of $n^{th}$ pixel of the digit. The example above represents the image for digit 1.\n",
    "\n",
    "By using the file 'mnist-train.csv' file as input, compute the average of images by L2-Norm and draw the images.\n",
    "\n",
    "\n",
    "## 2. L2-Norm Definition\n",
    "\n",
    "> On an n-dimensional Euclidean space $R^n$, the intuitive notion of length of the vector $x = (x_1, x_2, \\dots, x_n)$ is captured by the formula\n",
    "$$\\Vert x \\Vert_2 = \\sqrt{x_{1}^{2} + x_{2}^{2} + \\dots + x_{n}^{2}} = \\sqrt{x^Tx}$$\n",
    "\n",
    "## 2.1 Root Mean Square(RMS)\n",
    "\n",
    "> For $n-vector$ $x = (x_1, x_2, \\dots, x_n)$, Root-mean-square value (RMS value) is \n",
    "$$rms(x) = \\sqrt{\\frac{x_{1}^{2} + x_{2}^{2} + \\dots + x_{n}^{2}}{n}} = \\frac{\\Vert x \\Vert}{\\sqrt{n}}$$\n",
    "\n",
    "## 3. Computing Average images using L2-Norm\n",
    "\n",
    "We're going to use L2-Norm as a distance for this problem. For each digit(label), computes the L2-Norm for each pixel. The implementation codes and the results for each digit is like below."
   ]
  },
  {
   "cell_type": "code",
   "execution_count": 10,
   "metadata": {
    "scrolled": true
   },
   "outputs": [
    {
     "data": {
      "image/png": "[encoded data removed]",
      "text/plain": [
       "<Figure size 432x288 with 10 Axes>"
      ]
     },
     "metadata": {
      "needs_background": "light"
     },
     "output_type": "display_data"
    }
   ],
   "source": [
    "import matplotlib.pyplot as plt\n",
    "import numpy as np\n",
    "\n",
    "file_data\t\t= \"mnist_train.csv\"\n",
    "handle_file\t= open(file_data, \"r\")\n",
    "data        \t\t= handle_file.readlines()\n",
    "handle_file.close()\n",
    "\n",
    "size_row\t= 28    # height of the image\n",
    "size_col  \t= 28    # width of the image\n",
    "\n",
    "num_image\t= len(data)\n",
    "count       \t= 0     # count for the number of images\n",
    "\n",
    "#\n",
    "# normalize the values of the input data to be [0, 1]\n",
    "#\n",
    "def normalize(data):\n",
    "\n",
    "    data_normalized = (data - min(data)) / (max(data) - min(data))\n",
    "\n",
    "    return(data_normalized)\n",
    "\n",
    "#\n",
    "# example of distance function between two vectors x and y\n",
    "#\n",
    "def distance(x, y):\n",
    "\n",
    "    d = (x - y) ** 2\n",
    "    s = np.sum(d)\n",
    "    # r = np.sqrt(s)\n",
    "\n",
    "    return(s)\n",
    "\n",
    "#\n",
    "# make a matrix each column of which represents an images in a vector form \n",
    "#\n",
    "list_image  = np.empty((size_row * size_col, num_image), dtype=float)\n",
    "list_label  = np.empty(num_image, dtype=int)\n",
    "\n",
    "list_digitCount = np.zeros(10, dtype=int)\n",
    "list_L2Normed = np.zeros((size_row * size_col,10),dtype=float)\n",
    "\n",
    "for line in data:\n",
    "\n",
    "    line_data   = line.split(',')\n",
    "    label       = line_data[0]\n",
    "    im_vector   = np.asfarray(line_data[1:])\n",
    "    im_vector   = normalize(im_vector)\n",
    "\n",
    "    list_digitCount[int(label)] += 1\n",
    "    list_L2Normed[:, int(label)] += im_vector ** 2\n",
    "    \n",
    "    list_label[count]       = label\n",
    "    list_image[:, count]    = im_vector \n",
    "\n",
    "    count += 1\n",
    "\n",
    "list_RMSdDigits = np.zeros((size_row * size_col,10),dtype=float)\n",
    "\n",
    "# Use RMS for exact result. Devide L2-Normed result by the number of digits so that the result could be [0,1]\n",
    "for i in range(10) :\n",
    "    list_RMSdDigits[:,i] = np.sqrt(list_L2Normed[:,i] / list_digitCount[i])\n",
    "    \n",
    "f1 = plt.figure(1)\n",
    "\n",
    "for i in range(10) :\n",
    "    label = i\n",
    "    im_vector = list_RMSdDigits[:,i]\n",
    "    im_matrix = im_vector.reshape(size_row, size_col)\n",
    "    \n",
    "    plt.subplot(1,10,i+1)\n",
    "    plt.title(label)\n",
    "    plt.imshow(im_matrix, cmap='Greys', interpolation='None', vmin = 0, vmax = 1)\n",
    "\n",
    "    frame   = plt.gca()\n",
    "    frame.axes.get_xaxis().set_visible(False)\n",
    "    frame.axes.get_yaxis().set_visible(False)\n",
    "\n",
    "plt.show()"
   ]
  }
 ],
 "metadata": {
  "kernelspec": {
   "display_name": "Python 3",
   "language": "python",
   "name": "python3"
  },
  "language_info": {
   "codemirror_mode": {
    "name": "ipython",
    "version": 3
   },
   "file_extension": ".py",
   "mimetype": "text/x-python",
   "name": "python",
   "nbconvert_exporter": "python",
   "pygments_lexer": "ipython3",
   "version": "3.7.1"
  }
 },
 "nbformat": 4,
 "nbformat_minor": 2
}
